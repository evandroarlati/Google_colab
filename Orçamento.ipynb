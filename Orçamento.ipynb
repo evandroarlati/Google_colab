{
  "nbformat": 4,
  "nbformat_minor": 0,
  "metadata": {
    "colab": {
      "name": "Untitled2.ipynb",
      "provenance": [],
      "authorship_tag": "ABX9TyOJmqU2F+gRYdHV0LoP0Uyo",
      "include_colab_link": true
    },
    "kernelspec": {
      "name": "python3",
      "display_name": "Python 3"
    }
  },
  "cells": [
    {
      "cell_type": "markdown",
      "metadata": {
        "id": "view-in-github",
        "colab_type": "text"
      },
      "source": [
        "<a href=\"https://colab.research.google.com/github/evandroarlati/Google_colab/blob/master/Or%C3%A7amento.ipynb\" target=\"_parent\"><img src=\"https://colab.research.google.com/assets/colab-badge.svg\" alt=\"Open In Colab\"/></a>"
      ]
    },
    {
      "cell_type": "code",
      "metadata": {
        "id": "loAOTolmPBya",
        "colab_type": "code",
        "colab": {
          "base_uri": "https://localhost:8080/",
          "height": 119
        },
        "outputId": "1e6e5b13-b574-4f08-bdbc-c0e5414a4a2e"
      },
      "source": [
        "receita = 2900\n",
        "print('Receita: R$',receita)\n",
        "print('Investimento(25%): R$',receita * 0.25)\n",
        "print('Essencial(55%): R$',receita * 0.55)\n",
        "print('Educação(5%): R$',receita * 0.05)\n",
        "print('Empreendimento(10%): R$',receita * 0.10)\n",
        "print('Extra(5%): R$',receita * 0.05)"
      ],
      "execution_count": 7,
      "outputs": [
        {
          "output_type": "stream",
          "text": [
            "Receita: R$ 2900\n",
            "Investimento(25%): R$ 725.0\n",
            "Essencial(55%): R$ 1595.0000000000002\n",
            "Educação(5%): R$ 145.0\n",
            "Empreendimento(10%): R$ 290.0\n",
            "Extra(5%): R$ 145.0\n"
          ],
          "name": "stdout"
        }
      ]
    },
    {
      "cell_type": "code",
      "metadata": {
        "id": "tPLogwDnQylC",
        "colab_type": "code",
        "colab": {}
      },
      "source": [
        ""
      ],
      "execution_count": 0,
      "outputs": []
    }
  ]
}