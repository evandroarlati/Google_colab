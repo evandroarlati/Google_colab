{
  "nbformat": 4,
  "nbformat_minor": 0,
  "metadata": {
    "colab": {
      "name": "Untitled2.ipynb",
      "provenance": [],
      "authorship_tag": "ABX9TyMAGmQzuYr6l0/eaPRFx3Gc",
      "include_colab_link": true
    },
    "kernelspec": {
      "name": "python3",
      "display_name": "Python 3"
    }
  },
  "cells": [
    {
      "cell_type": "markdown",
      "metadata": {
        "id": "view-in-github",
        "colab_type": "text"
      },
      "source": [
        "<a href=\"https://colab.research.google.com/github/evandroarlati/Google_colab/blob/master/Or%C3%A7amento.ipynb\" target=\"_parent\"><img src=\"https://colab.research.google.com/assets/colab-badge.svg\" alt=\"Open In Colab\"/></a>"
      ]
    },
    {
      "cell_type": "code",
      "metadata": {
        "id": "loAOTolmPBya",
        "colab_type": "code",
        "outputId": "b1eed29a-2447-4dc1-f617-806c2fa958a1",
        "colab": {
          "base_uri": "https://localhost:8080/",
          "height": 153
        }
      },
      "source": [
        "receita = 2900\n",
        "\n",
        "investimento = receita * 0.25\n",
        "aposentadoria = receita * 0.10\n",
        "reserva = receita * 0.15\n",
        "\n",
        "essencial = receita * 0.55\n",
        "educação = receita * 0.05\n",
        "empreendimento = receita * 0.10\n",
        "extra = receita * 0.05\n",
        "\n",
        "print('Receita: R$',receita)\n",
        "print('Investimento(25%): R$',investimento)\n",
        "print(' Aposentadoria(10%): R$',aposentadoria)\n",
        "print(' Reserva(15%): R$',reserva)\n",
        "print('Essencial(55%): R$',essencial)\n",
        "print('Educação(5%): R$',educação)\n",
        "print('Empreendimento(10%): R$',empreendimento)\n",
        "print('Extra(5%): R$',extra)"
      ],
      "execution_count": 1,
      "outputs": [
        {
          "output_type": "stream",
          "text": [
            "Receita: R$ 2900\n",
            "Investimento(25%): R$ 725.0\n",
            " Aposentadoria(10%): R$ 290.0\n",
            " Reserva(15%): R$ 435.0\n",
            "Essencial(55%): R$ 1595.0000000000002\n",
            "Educação(5%): R$ 145.0\n",
            "Empreendimento(10%): R$ 290.0\n",
            "Extra(5%): R$ 145.0\n"
          ],
          "name": "stdout"
        }
      ]
    },
    {
      "cell_type": "code",
      "metadata": {
        "id": "tPLogwDnQylC",
        "colab_type": "code",
        "colab": {}
      },
      "source": [
        ""
      ],
      "execution_count": 0,
      "outputs": []
    }
  ]
}